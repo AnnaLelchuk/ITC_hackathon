{
 "cells": [
  {
   "cell_type": "code",
   "execution_count": 12,
   "id": "9566875c-8baf-465a-b411-5d17bfea467b",
   "metadata": {},
   "outputs": [],
   "source": [
    "import numpy as np\n",
    "import pandas as pd\n",
    "import seaborn as sns\n",
    "from sklearn.feature_selection import chi2, SelectKBest\n",
    "import collections"
   ]
  },
  {
   "cell_type": "code",
   "execution_count": 13,
   "id": "ff10bbd2-da09-4534-a95e-634ba334fb5b",
   "metadata": {
    "tags": []
   },
   "outputs": [],
   "source": [
    "feature2def = {\n",
    "    \"acc_now_delinq\": \"The number of accounts on which the borrower is now delinquent.\",\n",
    "    \"acc_open_past_24mths\": \"Number of trades opened in past 24 months.\",\n",
    "    \"addr_state\": \"The state provided by the borrower in the loan application\",\n",
    "    \"all_util\": \"Balance to credit limit on all trades\",\n",
    "    \"annual_inc\": \"The self-reported annual income provided by the borrower during registration.\",\n",
    "    \"annual_inc_joint\": \"The combined self-reported annual income provided by the co-borrowers during registration\",\n",
    "    \"application_type\": \"Indicates whether the loan is an individual application or a joint application with two co-borrowers\",\n",
    "    \"avg_cur_bal\": \"Average current balance of all accounts\",\n",
    "    \"bc_open_to_buy\": \"Total open to buy on revolving bankcards.\",\n",
    "    \"bc_util\": \"Ratio of total current balance to high credit/credit limit for all bankcard accounts.\",\n",
    "    \"chargeoff_within_12_mths\": \"Number of charge-offs within 12 months\",\n",
    "    \"collection_recovery_fee\": \"post charge off collection fee\",\n",
    "    \"collections_12_mths_ex_med\": \"Number of collections in 12 months excluding medical collections\",\n",
    "    \"delinq_2yrs\": \"The number of 30+ days past-due incidences of delinquency in the borrower's credit file for the past 2 years\",\n",
    "    \"delinq_amnt\": \"The past-due amount owed for the accounts on which the borrower is now delinquent.\",\n",
    "    \"desc\": \"Loan description provided by the borrower\",\n",
    "    \"dti\": \"A ratio calculated using the borrower’s total monthly debt payments on the total debt obligations, excluding mortgage and the requested LC loan, divided by the borrower’s self-reported monthly income.\",\n",
    "    \"dti_joint\": \"A ratio calculated using the co-borrowers' total monthly payments on the total debt obligations, excluding mortgages and the requested LC loan, divided by the co-borrowers' combined self-reported monthly income\",\n",
    "    \"earliest_cr_line\": \"The month the borrower's earliest reported credit line was opened\",\n",
    "    \"emp_length\": \"Employment length in years. Possible values are between 0 and 10 where 0 means less than one year and 10 means ten or more years. \",\n",
    "    \"emp_title\": \"The job title supplied by the Borrower when applying for the loan.*\",\n",
    "    \"fico_range_high\": \"The upper boundary range the borrower’s FICO at loan origination belongs to.\",\n",
    "    \"fico_range_low\": \"The lower boundary range the borrower’s FICO at loan origination belongs to.\",\n",
    "    \"funded_amnt\": \"The total amount committed to that loan at that point in time.\",\n",
    "    \"funded_amnt_inv\": \"The total amount committed by investors for that loan at that point in time.\",\n",
    "    \"grade\": \"LC assigned loan grade\",\n",
    "    \"home_ownership\": \"The home ownership status provided by the borrower during registration or obtained from the credit report. Our values are: RENT, OWN, MORTGAGE, OTHER\",\n",
    "    \"id\": \"A unique LC assigned ID for the loan listing.\",\n",
    "    \"il_util\": \"Ratio of total current balance to high credit/credit limit on all install acct\",\n",
    "    \"initial_list_status\": \"The initial listing status of the loan. Possible values are – W, F\",\n",
    "    \"inq_fi\": \"Number of personal finance inquiries\",\n",
    "    \"inq_last_12m\": \"Number of credit inquiries in past 12 months\",\n",
    "    \"inq_last_6mths\": \"The number of inquiries in past 6 months (excluding auto and mortgage inquiries)\",\n",
    "    \"installment\": \"The monthly payment owed by the borrower if the loan originates.\",\n",
    "    \"int_rate\": \"Interest Rate on the loan\",\n",
    "    \"issue_d\": \"The month which the loan was funded\",\n",
    "    \"last_credit_pull_d\": \"The most recent month LC pulled credit for this loan\",\n",
    "    \"last_fico_range_high\": \"The upper boundary range the borrower’s last FICO pulled belongs to.\",\n",
    "    \"last_fico_range_low\": \"The lower boundary range the borrower’s last FICO pulled belongs to.\",\n",
    "    \"last_pymnt_amnt\": \"Last total payment amount received\",\n",
    "    \"last_pymnt_d\": \"Last month payment was received\",\n",
    "    \"loan_amnt\": \"The listed amount of the loan applied for by the borrower. If at some point in time, the credit department reduces the loan amount, then it will be reflected in this value.\",\n",
    "    \"loan_status\": \"Current status of the loan\",\n",
    "    \"max_bal_bc\": \"Maximum current balance owed on all revolving accounts\",\n",
    "    \"member_id\": \"A unique LC assigned Id for the borrower member.\",\n",
    "    \"mo_sin_old_il_acct\": \"Months since oldest bank installment account opened\",\n",
    "    \"mo_sin_old_rev_tl_op\": \"Months since oldest revolving account opened\",\n",
    "    \"mo_sin_rcnt_rev_tl_op\": \"Months since most recent revolving account opened\",\n",
    "    \"mo_sin_rcnt_tl\": \"Months since most recent account opened\",\n",
    "    \"mort_acc\": \"Number of mortgage accounts.\",\n",
    "    \"mths_since_last_delinq\": \"The number of months since the borrower's last delinquency.\",\n",
    "    \"mths_since_last_major_derog\": \"Months since most recent 90-day or worse rating\",\n",
    "    \"mths_since_last_record\": \"The number of months since the last public record.\",\n",
    "    \"mths_since_rcnt_il\": \"Months since most recent installment accounts opened\",\n",
    "    \"mths_since_recent_bc\": \"Months since most recent bankcard account opened.\",\n",
    "    \"mths_since_recent_bc_dlq\": \"Months since most recent bankcard delinquency\",\n",
    "    \"mths_since_recent_inq\": \"Months since most recent inquiry.\",\n",
    "    \"mths_since_recent_revol_delinq\": \"Months since most recent revolving delinquency.\",\n",
    "    \"next_pymnt_d\": \"Next scheduled payment date\",\n",
    "    \"num_accts_ever_120_pd\": \"Number of accounts ever 120 or more days past due\",\n",
    "    \"num_actv_bc_tl\": \"Number of currently active bankcard accounts\",\n",
    "    \"num_actv_rev_tl\": \"Number of currently active revolving trades\",\n",
    "    \"num_bc_sats\": \"Number of satisfactory bankcard accounts\",\n",
    "    \"num_bc_tl\": \"Number of bankcard accounts\",\n",
    "    \"num_il_tl\": \"Number of installment accounts\",\n",
    "    \"num_op_rev_tl\": \"Number of open revolving accounts\",\n",
    "    \"num_rev_accts\": \"Number of revolving accounts\",\n",
    "    \"num_rev_tl_bal_gt_0\": \"Number of revolving trades with balance >0\",\n",
    "    \"num_sats\": \"Number of satisfactory accounts\",\n",
    "    \"num_tl_120dpd_2m\": \"Number of accounts currently 120 days past due (updated in past 2 months)\",\n",
    "    \"num_tl_30dpd\": \"Number of accounts currently 30 days past due (updated in past 2 months)\",\n",
    "    \"num_tl_90g_dpd_24m\": \"Number of accounts 90 or more days past due in last 24 months\",\n",
    "    \"num_tl_op_past_12m\": \"Number of accounts opened in past 12 months\",\n",
    "    \"open_acc\": \"The number of open credit lines in the borrower's credit file.\",\n",
    "    \"open_acc_6m\": \"Number of open trades in last 6 months\",\n",
    "    \"open_il_12m\": \"Number of installment accounts opened in past 12 months\",\n",
    "    \"open_il_24m\": \"Number of installment accounts opened in past 24 months\",\n",
    "    \"open_act_il\": \"Number of currently active installment trades\",\n",
    "    \"open_rv_12m\": \"Number of revolving trades opened in past 12 months\",\n",
    "    \"open_rv_24m\": \"Number of revolving trades opened in past 24 months\",\n",
    "    \"out_prncp\": \"Remaining outstanding principal for total amount funded\",\n",
    "    \"out_prncp_inv\": \"Remaining outstanding principal for portion of total amount funded by investors\",\n",
    "    \"pct_tl_nvr_dlq\": \"Percent of trades never delinquent\",\n",
    "    \"percent_bc_gt_75\": \"Percentage of all bankcard accounts > 75% of limit.\",\n",
    "    \"policy_code\": \"publicly available policy_code=1 new products not publicly available policy_code=2\",\n",
    "    \"pub_rec\": \"Number of derogatory public records\",\n",
    "    \"pub_rec_bankruptcies\": \"Number of public record bankruptcies\",\n",
    "    \"purpose\": \"A category provided by the borrower for the loan request. \",\n",
    "    \"pymnt_plan\": \"Indicates if a payment plan has been put in place for the loan\",\n",
    "    \"recoveries\": \"post charge off gross recovery\",\n",
    "    \"revol_bal\": \"Total credit revolving balance\",\n",
    "    \"revol_util\": \"Revolving line utilization rate, or the amount of credit the borrower is using relative to all available revolving credit.\",\n",
    "    \"sub_grade\": \"LC assigned loan subgrade\",\n",
    "    \"tax_liens\": \"Number of tax liens\",\n",
    "    \"term\": \"The number of payments on the loan. Values are in months and can be either 36 or 60.\",\n",
    "    \"title\": \"The loan title provided by the borrower\",\n",
    "    \"tot_coll_amt\": \"Total collection amounts ever owed\",\n",
    "    \"tot_cur_bal\": \"Total current balance of all accounts\",\n",
    "    \"tot_hi_cred_lim\": \"Total high credit/credit limit\",\n",
    "    \"total_acc\": \"The total number of credit lines currently in the borrower's credit file\",\n",
    "    \"total_bal_ex_mort\": \"Total credit balance excluding mortgage\",\n",
    "    \"total_bal_il\": \"Total current balance of all installment accounts\",\n",
    "    \"total_bc_limit\": \"Total bankcard high credit/credit limit\",\n",
    "    \"total_cu_tl\": \"Number of finance trades\",\n",
    "    \"total_il_high_credit_limit\": \"Total installment high credit/credit limit\",\n",
    "    \"total_pymnt\": \"Payments received to date for total amount funded\",\n",
    "    \"total_pymnt_inv\": \"Payments received to date for portion of total amount funded by investors\",\n",
    "    \"total_rec_int\": \"Interest received to date\",\n",
    "    \"total_rec_late_fee\": \"Late fees received to date\",\n",
    "    \"total_rec_prncp\": \"Principal received to date\",\n",
    "    \"total_rev_hi_lim\": \"Total revolving high credit/credit limit\",\n",
    "    \"url\": \"URL for the LC page with listing data.\",\n",
    "    \"verification_status\": \"Indicates if income was verified by LC, not verified, or if the income source was verified\",\n",
    "    \"verified_status_joint\": \"Indicates if the co-borrowers' joint income was verified by LC, not verified, or if the income source was verified\",\n",
    "    \"zip_code\": \"The first 3 numbers of the zip code provided by the borrower in the loan application.\",\n",
    "    \"revol_bal_joint\": \"  Sum of revolving credit balance of the co-borrowers, net of duplicate balances\",\n",
    "    \"sec_app_fico_range_low\": \"  FICO range (high) for the secondary applicant\",\n",
    "    \"sec_app_fico_range_high\": \"  FICO range (low) for the secondary applicant\",\n",
    "    \"sec_app_earliest_cr_line\": \"  Earliest credit line at time of application for the secondary applicant\",\n",
    "    \"sec_app_inq_last_6mths\": \"  Credit inquiries in the last 6 months at time of application for the secondary applicant\",\n",
    "    \"sec_app_mort_acc\": \"  Number of mortgage accounts at time of application for the secondary applicant\",\n",
    "    \"sec_app_open_acc\": \"  Number of open trades at time of application for the secondary applicant\",\n",
    "    \"sec_app_revol_util\": \"  Ratio of total current balance to high credit/credit limit for all revolving accounts\",\n",
    "    \"sec_app_open_act_il\": \" Number of currently active installment trades at time of application for the secondary applicant\",\n",
    "    \"sec_app_num_rev_accts\": \"  Number of revolving accounts at time of application for the secondary applicant\",\n",
    "    \"sec_app_chargeoff_within_12_mths\": \"  Number of charge-offs within last 12 months at time of application for the secondary applicant\",\n",
    "    \"sec_app_collections_12_mths_ex_med\": \"  Number of collections within last 12 months excluding medical collections at time of application for the secondary applicant\",\n",
    "    \"sec_app_mths_since_last_major_derog\": \"  Months since most recent 90-day or worse rating at time of application for the secondary applicant\",\n",
    "    \"hardship_flag\": \"Flags whether or not the borrower is on a hardship plan\",\n",
    "    \"hardship_type\": \"Describes the hardship plan offering\",\n",
    "    \"hardship_reason\": \"Describes the reason the hardship plan was offered\",\n",
    "    \"hardship_status\": \"Describes if the hardship plan is active, pending, canceled, completed, or broken\",\n",
    "    \"deferral_term\": \"Amount of months that the borrower is expected to pay less than the contractual monthly payment amount due to a hardship plan\",\n",
    "    \"hardship_amount\": \"The interest payment that the borrower has committed to make each month while they are on a hardship plan\",\n",
    "    \"hardship_start_date\": \"The start date of the hardship plan period\",\n",
    "    \"hardship_end_date\": \"The end date of the hardship plan period\",\n",
    "    \"payment_plan_start_date\": \"The day the first hardship plan payment is due. For example, if a borrower has a hardship plan period of 3 months, the start date is the start of the three-month period in which the borrower is allowed to make interest-only payments.\",\n",
    "    \"hardship_length\": \"The number of months the borrower will make smaller payments than normally obligated due to a hardship plan\",\n",
    "    \"hardship_dpd\": \"Account days past due as of the hardship plan start date\",\n",
    "    \"hardship_loan_status\": \"Loan Status as of the hardship plan start date\",\n",
    "    \"orig_projected_additional_accrued_interest\": \"The original projected additional interest amount that will accrue for the given hardship payment plan as of the Hardship Start Date. This field will be null if the borrower has broken their hardship payment plan.\",\n",
    "    \"hardship_payoff_balance_amount\": \"The payoff balance amount as of the hardship plan start date\",\n",
    "    \"hardship_last_payment_amount\": \"The last payment amount as of the hardship plan start date\",\n",
    "    \"disbursement_method\": \"The method by which the borrower receives their loan. Possible values are: CASH, DIRECT_PAY\",\n",
    "    \"debt_settlement_flag\": \"Flags whether or not the borrower, who has charged-off, is working with a debt-settlement company.\",\n",
    "    \"debt_settlement_flag_date\": \"The most recent date that the Debt_Settlement_Flag has been set  \",\n",
    "    \"settlement_status\": \"The status of the borrower’s settlement plan. Possible values are: COMPLETE, ACTIVE, BROKEN, CANCELLED, DENIED, DRAFT\",\n",
    "    \"settlement_date\": \"The date that the borrower agrees to the settlement plan\",\n",
    "    \"settlement_amount\": \"The loan amount that the borrower has agreed to settle for\",\n",
    "    \"settlement_percentage\": \"The settlement amount as a percentage of the payoff balance amount on the loan\",\n",
    "    \"settlement_term\": \"The number of months that the borrower will be on the settlement plan\"\n",
    "}\n"
   ]
  },
  {
   "cell_type": "markdown",
   "id": "b15c08a6-dc4e-42fa-a91d-174ebb837acf",
   "metadata": {},
   "source": [
    "# Data exploration"
   ]
  },
  {
   "cell_type": "markdown",
   "id": "d2994c75-970c-436e-965b-54a551edcc2a",
   "metadata": {
    "tags": []
   },
   "source": [
    "## Features kept before data loading"
   ]
  },
  {
   "cell_type": "code",
   "execution_count": 14,
   "id": "0c8736b1-dc3f-4689-8079-499fc5c1cbf8",
   "metadata": {
    "scrolled": true,
    "tags": []
   },
   "outputs": [
    {
     "data": {
      "text/plain": [
       "['acc_now_delinq',\n",
       " 'acc_open_past_24mths',\n",
       " 'annual_inc',\n",
       " 'application_type',\n",
       " 'avg_cur_bal',\n",
       " 'bc_open_to_buy',\n",
       " 'bc_util',\n",
       " 'chargeoff_within_12_mths',\n",
       " 'collection_recovery_fee',\n",
       " 'collections_12_mths_ex_med',\n",
       " 'debt_settlement_flag',\n",
       " 'delinq_2yrs',\n",
       " 'delinq_amnt',\n",
       " 'dti',\n",
       " 'earliest_cr_line',\n",
       " 'emp_length',\n",
       " 'fico_range_high',\n",
       " 'fico_range_low',\n",
       " 'hardship_flag',\n",
       " 'home_ownership',\n",
       " 'initial_list_status',\n",
       " 'inq_last_6mths',\n",
       " 'installment',\n",
       " 'int_rate',\n",
       " 'last_credit_pull_d',\n",
       " 'last_fico_range_high',\n",
       " 'last_fico_range_low',\n",
       " 'last_pymnt_amnt',\n",
       " 'last_pymnt_d',\n",
       " 'mo_sin_old_il_acct',\n",
       " 'mo_sin_old_rev_tl_op',\n",
       " 'mo_sin_rcnt_rev_tl_op',\n",
       " 'mo_sin_rcnt_tl',\n",
       " 'mort_acc',\n",
       " 'mths_since_last_delinq',\n",
       " 'mths_since_recent_bc',\n",
       " 'mths_since_recent_inq',\n",
       " 'num_accts_ever_120_pd',\n",
       " 'num_actv_bc_tl',\n",
       " 'num_actv_rev_tl',\n",
       " 'num_bc_sats',\n",
       " 'num_bc_tl',\n",
       " 'num_il_tl',\n",
       " 'num_op_rev_tl',\n",
       " 'num_rev_accts',\n",
       " 'num_rev_tl_bal_gt_0',\n",
       " 'num_sats',\n",
       " 'num_tl_120dpd_2m',\n",
       " 'num_tl_30dpd',\n",
       " 'num_tl_90g_dpd_24m',\n",
       " 'num_tl_op_past_12m',\n",
       " 'open_acc',\n",
       " 'out_prncp',\n",
       " 'out_prncp_inv',\n",
       " 'pct_tl_nvr_dlq',\n",
       " 'percent_bc_gt_75',\n",
       " 'policy_code',\n",
       " 'pub_rec',\n",
       " 'pub_rec_bankruptcies',\n",
       " 'purpose',\n",
       " 'pymnt_plan',\n",
       " 'recoveries',\n",
       " 'revol_bal',\n",
       " 'revol_util',\n",
       " 'tax_liens',\n",
       " 'term',\n",
       " 'tot_coll_amt',\n",
       " 'tot_cur_bal',\n",
       " 'tot_hi_cred_lim',\n",
       " 'total_acc',\n",
       " 'total_bal_ex_mort',\n",
       " 'total_bc_limit',\n",
       " 'total_il_high_credit_limit',\n",
       " 'total_pymnt',\n",
       " 'total_pymnt_inv',\n",
       " 'total_rec_int',\n",
       " 'total_rec_late_fee',\n",
       " 'total_rec_prncp',\n",
       " 'total_rev_hi_lim']"
      ]
     },
     "execution_count": 14,
     "metadata": {},
     "output_type": "execute_result"
    }
   ],
   "source": [
    "ignored = [\n",
    "    'Unnamed: 0',\n",
    "    'id',\n",
    "    'url',\n",
    "    'loan_amnt', # assumption: FICO score independant of loan amount,\n",
    "    'funded_amnt', # assumption: FICO score independant of loan amount,\n",
    "    'funded_amnt_inv', # assumption: FICO score independant of loan amount,\n",
    "    'loan_status', # no loan status if there is no loan yet\n",
    "    'verification_status', # (related to lending club: was the income verified)\n",
    "    'issue_d', # irrelevant (month which loan was funded)\n",
    "    'emp_title', # too complicated to extract relevant information, they are almost all unique\n",
    "    'title', # too complicated to extract relevant information, they are almost all unique or refer to debt consolidation\n",
    "    'grade', # Assigned by LC\n",
    "    'sub_grade', # Assigned by LC\n",
    "    'zip_code', # MAYBE WE SHOULD KEEP THIS\n",
    "    'addr_state', # MAYBE WE SHOULD KEEP THIS\n",
    "]\n",
    "\n",
    "\n",
    "# cols_to_remove = df.columns[(df.isna().sum() == df.shape[0])]\n",
    "# cols_not_na = df.columns[~(df.isna().sum() == df.shape[0])]\n",
    "\n",
    "cols_not_na = ['Unnamed: 0', 'id', 'loan_amnt', 'funded_amnt', 'funded_amnt_inv',\n",
    "       'term', 'int_rate', 'installment', 'grade', 'sub_grade', 'emp_title',\n",
    "       'emp_length', 'home_ownership', 'annual_inc', 'verification_status',\n",
    "       'issue_d', 'loan_status', 'pymnt_plan', 'url', 'purpose', 'title',\n",
    "       'zip_code', 'addr_state', 'dti', 'delinq_2yrs', 'earliest_cr_line',\n",
    "       'fico_range_low', 'fico_range_high', 'inq_last_6mths',\n",
    "       'mths_since_last_delinq', 'open_acc', 'pub_rec', 'revol_bal',\n",
    "       'revol_util', 'total_acc', 'initial_list_status', 'out_prncp',\n",
    "       'out_prncp_inv', 'total_pymnt', 'total_pymnt_inv', 'total_rec_prncp',\n",
    "       'total_rec_int', 'total_rec_late_fee', 'recoveries',\n",
    "       'collection_recovery_fee', 'last_pymnt_d', 'last_pymnt_amnt',\n",
    "       'last_credit_pull_d', 'last_fico_range_high', 'last_fico_range_low',\n",
    "       'collections_12_mths_ex_med', 'policy_code', 'application_type',\n",
    "       'acc_now_delinq', 'tot_coll_amt', 'tot_cur_bal', 'total_rev_hi_lim',\n",
    "       'acc_open_past_24mths', 'avg_cur_bal', 'bc_open_to_buy', 'bc_util',\n",
    "       'chargeoff_within_12_mths', 'delinq_amnt', 'mo_sin_old_il_acct',\n",
    "       'mo_sin_old_rev_tl_op', 'mo_sin_rcnt_rev_tl_op', 'mo_sin_rcnt_tl',\n",
    "       'mort_acc', 'mths_since_recent_bc', 'mths_since_recent_inq',\n",
    "       'num_accts_ever_120_pd', 'num_actv_bc_tl', 'num_actv_rev_tl',\n",
    "       'num_bc_sats', 'num_bc_tl', 'num_il_tl', 'num_op_rev_tl',\n",
    "       'num_rev_accts', 'num_rev_tl_bal_gt_0', 'num_sats', 'num_tl_120dpd_2m',\n",
    "       'num_tl_30dpd', 'num_tl_90g_dpd_24m', 'num_tl_op_past_12m',\n",
    "       'pct_tl_nvr_dlq', 'percent_bc_gt_75', 'pub_rec_bankruptcies',\n",
    "       'tax_liens', 'tot_hi_cred_lim', 'total_bal_ex_mort', 'total_bc_limit',\n",
    "       'total_il_high_credit_limit', 'hardship_flag', 'debt_settlement_flag']\n",
    "\n",
    "\n",
    "\n",
    "columns = list(set(cols_not_na) - set(ignored))\n",
    "sorted(columns)"
   ]
  },
  {
   "cell_type": "code",
   "execution_count": 19,
   "id": "4f2bb52b-33ff-42c0-8673-4ec16c123fca",
   "metadata": {},
   "outputs": [
    {
     "data": {
      "text/plain": [
       "{'acc_now_delinq': 'The number of accounts on which the borrower is now delinquent.',\n",
       " 'acc_open_past_24mths': 'Number of trades opened in past 24 months.',\n",
       " 'annual_inc': 'The self-reported annual income provided by the borrower during registration.',\n",
       " 'application_type': 'Indicates whether the loan is an individual application or a joint application with two co-borrowers',\n",
       " 'avg_cur_bal': 'Average current balance of all accounts',\n",
       " 'bc_open_to_buy': 'Total open to buy on revolving bankcards.',\n",
       " 'bc_util': 'Ratio of total current balance to high credit/credit limit for all bankcard accounts.',\n",
       " 'chargeoff_within_12_mths': 'Number of charge-offs within 12 months',\n",
       " 'collection_recovery_fee': 'post charge off collection fee',\n",
       " 'collections_12_mths_ex_med': 'Number of collections in 12 months excluding medical collections',\n",
       " 'debt_settlement_flag': 'Flags whether or not the borrower, who has charged-off, is working with a debt-settlement company.',\n",
       " 'delinq_2yrs': \"The number of 30+ days past-due incidences of delinquency in the borrower's credit file for the past 2 years\",\n",
       " 'delinq_amnt': 'The past-due amount owed for the accounts on which the borrower is now delinquent.',\n",
       " 'dti': 'A ratio calculated using the borrower’s total monthly debt payments on the total debt obligations, excluding mortgage and the requested LC loan, divided by the borrower’s self-reported monthly income.',\n",
       " 'earliest_cr_line': \"The month the borrower's earliest reported credit line was opened\",\n",
       " 'emp_length': 'Employment length in years. Possible values are between 0 and 10 where 0 means less than one year and 10 means ten or more years. ',\n",
       " 'fico_range_high': 'The upper boundary range the borrower’s FICO at loan origination belongs to.',\n",
       " 'fico_range_low': 'The lower boundary range the borrower’s FICO at loan origination belongs to.',\n",
       " 'hardship_flag': 'Flags whether or not the borrower is on a hardship plan',\n",
       " 'home_ownership': 'The home ownership status provided by the borrower during registration\\xa0or obtained from the credit report.\\xa0Our values are: RENT, OWN, MORTGAGE, OTHER',\n",
       " 'initial_list_status': 'The initial listing status of the loan. Possible values are – W, F',\n",
       " 'inq_last_6mths': 'The number of inquiries in past 6 months (excluding auto and mortgage inquiries)',\n",
       " 'installment': 'The monthly payment owed by the borrower if the loan originates.',\n",
       " 'int_rate': 'Interest Rate on the loan',\n",
       " 'last_credit_pull_d': 'The most recent month LC pulled credit for this loan',\n",
       " 'last_fico_range_high': 'The upper boundary range the borrower’s last FICO pulled belongs to.',\n",
       " 'last_fico_range_low': 'The lower boundary range the borrower’s last FICO pulled belongs to.',\n",
       " 'last_pymnt_amnt': 'Last total payment amount received',\n",
       " 'last_pymnt_d': 'Last month payment was received',\n",
       " 'mo_sin_old_il_acct': 'Months since oldest bank installment account opened',\n",
       " 'mo_sin_old_rev_tl_op': 'Months since oldest revolving account opened',\n",
       " 'mo_sin_rcnt_rev_tl_op': 'Months since most recent revolving account opened',\n",
       " 'mo_sin_rcnt_tl': 'Months since most recent account opened',\n",
       " 'mort_acc': 'Number of mortgage accounts.',\n",
       " 'mths_since_last_delinq': \"The number of months since the borrower's last delinquency.\",\n",
       " 'mths_since_recent_bc': 'Months since most recent bankcard account opened.',\n",
       " 'mths_since_recent_inq': 'Months since most recent inquiry.',\n",
       " 'num_accts_ever_120_pd': 'Number of accounts ever 120 or more days past due',\n",
       " 'num_actv_bc_tl': 'Number of currently active bankcard accounts',\n",
       " 'num_actv_rev_tl': 'Number of currently active revolving trades',\n",
       " 'num_bc_sats': 'Number of satisfactory bankcard accounts',\n",
       " 'num_bc_tl': 'Number of bankcard accounts',\n",
       " 'num_il_tl': 'Number of installment accounts',\n",
       " 'num_op_rev_tl': 'Number of open revolving accounts',\n",
       " 'num_rev_accts': 'Number of revolving accounts',\n",
       " 'num_rev_tl_bal_gt_0': 'Number of revolving trades with balance >0',\n",
       " 'num_sats': 'Number of satisfactory accounts',\n",
       " 'num_tl_120dpd_2m': 'Number of accounts currently 120 days past due (updated in past 2 months)',\n",
       " 'num_tl_30dpd': 'Number of accounts currently 30 days past due (updated in past 2 months)',\n",
       " 'num_tl_90g_dpd_24m': 'Number of accounts 90 or more days past due in last 24 months',\n",
       " 'num_tl_op_past_12m': 'Number of accounts opened in past 12 months',\n",
       " 'open_acc': \"The number of open credit lines in the borrower's credit file.\",\n",
       " 'out_prncp': 'Remaining outstanding principal for total amount funded',\n",
       " 'out_prncp_inv': 'Remaining outstanding principal for portion of total amount funded by investors',\n",
       " 'pct_tl_nvr_dlq': 'Percent of trades never delinquent',\n",
       " 'percent_bc_gt_75': 'Percentage of all bankcard accounts > 75% of limit.',\n",
       " 'policy_code': 'publicly available policy_code=1 new products not publicly available policy_code=2',\n",
       " 'pub_rec': 'Number of derogatory public records',\n",
       " 'pub_rec_bankruptcies': 'Number of public record bankruptcies',\n",
       " 'purpose': 'A category provided by the borrower for the loan request. ',\n",
       " 'pymnt_plan': 'Indicates if a payment plan has been put in place for the loan',\n",
       " 'recoveries': 'post charge off gross recovery',\n",
       " 'revol_bal': 'Total credit revolving balance',\n",
       " 'revol_util': 'Revolving line utilization rate, or the amount of credit the borrower is using relative to all available revolving credit.',\n",
       " 'tax_liens': 'Number of tax liens',\n",
       " 'term': 'The number of payments on the loan. Values are in months and can be either 36 or 60.',\n",
       " 'tot_coll_amt': 'Total collection amounts ever owed',\n",
       " 'tot_cur_bal': 'Total current balance of all accounts',\n",
       " 'tot_hi_cred_lim': 'Total high credit/credit limit',\n",
       " 'total_acc': \"The total number of credit lines currently in the borrower's credit file\",\n",
       " 'total_bal_ex_mort': 'Total credit balance excluding mortgage',\n",
       " 'total_bc_limit': 'Total bankcard high credit/credit limit',\n",
       " 'total_il_high_credit_limit': 'Total installment high credit/credit limit',\n",
       " 'total_pymnt': 'Payments received to date for total amount funded',\n",
       " 'total_pymnt_inv': 'Payments received to date for portion of total amount funded by investors',\n",
       " 'total_rec_int': 'Interest received to date',\n",
       " 'total_rec_late_fee': 'Late fees received to date',\n",
       " 'total_rec_prncp': 'Principal received to date',\n",
       " 'total_rev_hi_lim': 'Total revolving high credit/credit limit'}"
      ]
     },
     "execution_count": 19,
     "metadata": {},
     "output_type": "execute_result"
    }
   ],
   "source": [
    "kept_cols_def = {k:feature2def[k] for k in columns}\n",
    "dict(collections.OrderedDict(sorted(kept_cols_def.items())))"
   ]
  },
  {
   "cell_type": "markdown",
   "id": "48137c15-117c-4d4f-9d6d-c34d85a3f972",
   "metadata": {},
   "source": [
    "## Data loading"
   ]
  },
  {
   "cell_type": "code",
   "execution_count": 56,
   "id": "e9cae0fb-624d-4dff-88dc-e09639435f36",
   "metadata": {},
   "outputs": [],
   "source": [
    "kept_cols = ['acc_now_delinq',\n",
    "             'annual_inc',\n",
    "             'application_type',\n",
    "             'emp_length',\n",
    "             'fico_range_low',\n",
    "             'fico_range_high',\n",
    "             'home_ownership',\n",
    "             'mths_since_last_delinq',\n",
    "             'purpose',\n",
    "             'tot_cur_bal']"
   ]
  },
  {
   "cell_type": "code",
   "execution_count": 81,
   "id": "384fdc79-0891-4509-a7ee-b6016cea5842",
   "metadata": {},
   "outputs": [],
   "source": [
    "df = pd.read_csv('archive/Loan_status_2007-2020Q3.gzip', usecols=kept_cols)"
   ]
  },
  {
   "cell_type": "code",
   "execution_count": 82,
   "id": "494b8983-04ac-4517-b153-4ea09668521b",
   "metadata": {},
   "outputs": [
    {
     "data": {
      "text/html": [
       "<div>\n",
       "<style scoped>\n",
       "    .dataframe tbody tr th:only-of-type {\n",
       "        vertical-align: middle;\n",
       "    }\n",
       "\n",
       "    .dataframe tbody tr th {\n",
       "        vertical-align: top;\n",
       "    }\n",
       "\n",
       "    .dataframe thead th {\n",
       "        text-align: right;\n",
       "    }\n",
       "</style>\n",
       "<table border=\"1\" class=\"dataframe\">\n",
       "  <thead>\n",
       "    <tr style=\"text-align: right;\">\n",
       "      <th></th>\n",
       "      <th>emp_length</th>\n",
       "      <th>home_ownership</th>\n",
       "      <th>annual_inc</th>\n",
       "      <th>purpose</th>\n",
       "      <th>fico_range_low</th>\n",
       "      <th>fico_range_high</th>\n",
       "      <th>mths_since_last_delinq</th>\n",
       "      <th>application_type</th>\n",
       "      <th>acc_now_delinq</th>\n",
       "      <th>tot_cur_bal</th>\n",
       "    </tr>\n",
       "  </thead>\n",
       "  <tbody>\n",
       "    <tr>\n",
       "      <th>0</th>\n",
       "      <td>10+ years</td>\n",
       "      <td>RENT</td>\n",
       "      <td>24000.0</td>\n",
       "      <td>credit_card</td>\n",
       "      <td>735.0</td>\n",
       "      <td>739.0</td>\n",
       "      <td>NaN</td>\n",
       "      <td>Individual</td>\n",
       "      <td>0.0</td>\n",
       "      <td>NaN</td>\n",
       "    </tr>\n",
       "    <tr>\n",
       "      <th>1</th>\n",
       "      <td>&lt; 1 year</td>\n",
       "      <td>RENT</td>\n",
       "      <td>30000.0</td>\n",
       "      <td>car</td>\n",
       "      <td>740.0</td>\n",
       "      <td>744.0</td>\n",
       "      <td>NaN</td>\n",
       "      <td>Individual</td>\n",
       "      <td>0.0</td>\n",
       "      <td>NaN</td>\n",
       "    </tr>\n",
       "    <tr>\n",
       "      <th>2</th>\n",
       "      <td>10+ years</td>\n",
       "      <td>RENT</td>\n",
       "      <td>12252.0</td>\n",
       "      <td>small_business</td>\n",
       "      <td>735.0</td>\n",
       "      <td>739.0</td>\n",
       "      <td>NaN</td>\n",
       "      <td>Individual</td>\n",
       "      <td>0.0</td>\n",
       "      <td>NaN</td>\n",
       "    </tr>\n",
       "    <tr>\n",
       "      <th>3</th>\n",
       "      <td>10+ years</td>\n",
       "      <td>RENT</td>\n",
       "      <td>49200.0</td>\n",
       "      <td>other</td>\n",
       "      <td>690.0</td>\n",
       "      <td>694.0</td>\n",
       "      <td>35.0</td>\n",
       "      <td>Individual</td>\n",
       "      <td>0.0</td>\n",
       "      <td>NaN</td>\n",
       "    </tr>\n",
       "    <tr>\n",
       "      <th>4</th>\n",
       "      <td>1 year</td>\n",
       "      <td>RENT</td>\n",
       "      <td>80000.0</td>\n",
       "      <td>other</td>\n",
       "      <td>695.0</td>\n",
       "      <td>699.0</td>\n",
       "      <td>38.0</td>\n",
       "      <td>Individual</td>\n",
       "      <td>0.0</td>\n",
       "      <td>NaN</td>\n",
       "    </tr>\n",
       "  </tbody>\n",
       "</table>\n",
       "</div>"
      ],
      "text/plain": [
       "  emp_length home_ownership  annual_inc         purpose  fico_range_low  \\\n",
       "0  10+ years           RENT     24000.0     credit_card           735.0   \n",
       "1   < 1 year           RENT     30000.0             car           740.0   \n",
       "2  10+ years           RENT     12252.0  small_business           735.0   \n",
       "3  10+ years           RENT     49200.0           other           690.0   \n",
       "4     1 year           RENT     80000.0           other           695.0   \n",
       "\n",
       "   fico_range_high  mths_since_last_delinq application_type  acc_now_delinq  \\\n",
       "0            739.0                     NaN       Individual             0.0   \n",
       "1            744.0                     NaN       Individual             0.0   \n",
       "2            739.0                     NaN       Individual             0.0   \n",
       "3            694.0                    35.0       Individual             0.0   \n",
       "4            699.0                    38.0       Individual             0.0   \n",
       "\n",
       "   tot_cur_bal  \n",
       "0          NaN  \n",
       "1          NaN  \n",
       "2          NaN  \n",
       "3          NaN  \n",
       "4          NaN  "
      ]
     },
     "metadata": {},
     "output_type": "display_data"
    },
    {
     "data": {
      "text/plain": [
       "(2925493, 10)"
      ]
     },
     "execution_count": 82,
     "metadata": {},
     "output_type": "execute_result"
    }
   ],
   "source": [
    "display(df.head())\n",
    "df.shape"
   ]
  },
  {
   "cell_type": "code",
   "execution_count": 85,
   "id": "278961b5-11e3-4a86-8099-aba74f5d5962",
   "metadata": {},
   "outputs": [
    {
     "data": {
      "text/plain": [
       "610.0"
      ]
     },
     "execution_count": 85,
     "metadata": {},
     "output_type": "execute_result"
    }
   ],
   "source": [
    "df.fico_range_low.min()"
   ]
  },
  {
   "cell_type": "markdown",
   "id": "0e2692f8-4e17-4752-8ce2-0ecdeea62624",
   "metadata": {},
   "source": [
    "### Removing missing values"
   ]
  },
  {
   "cell_type": "code",
   "execution_count": 59,
   "id": "cbd11a03-05f0-4e2a-bb0e-5ee7a48fbcf2",
   "metadata": {},
   "outputs": [
    {
     "data": {
      "text/plain": [
       "emp_length                 205221\n",
       "home_ownership                  1\n",
       "annual_inc                      5\n",
       "purpose                         1\n",
       "fico_range_low                  1\n",
       "fico_range_high                 1\n",
       "mths_since_last_delinq    1536503\n",
       "application_type                1\n",
       "acc_now_delinq                 30\n",
       "tot_cur_bal                 70277\n",
       "dtype: int64"
      ]
     },
     "execution_count": 59,
     "metadata": {},
     "output_type": "execute_result"
    }
   ],
   "source": [
    "df.isna().sum()"
   ]
  },
  {
   "cell_type": "code",
   "execution_count": 86,
   "id": "e1dc770e-9d69-4e54-a126-54f22edbb086",
   "metadata": {},
   "outputs": [
    {
     "data": {
      "text/plain": [
       "(2652057, 10)"
      ]
     },
     "execution_count": 86,
     "metadata": {},
     "output_type": "execute_result"
    }
   ],
   "source": [
    "features_remove_na = ['home_ownership', 'annual_inc', 'emp_length', 'fico_range_low', 'fico_range_high', \n",
    "                      'application_type', 'acc_now_delinq', 'tot_cur_bal', 'purpose']\n",
    "for feature in features_remove_na:\n",
    "    df = df[~df[feature].isna()]\n",
    "df.shape"
   ]
  },
  {
   "cell_type": "code",
   "execution_count": 88,
   "id": "0b6530f7-bf81-412e-b151-29206c05f45a",
   "metadata": {},
   "outputs": [
    {
     "data": {
      "text/plain": [
       "660.0"
      ]
     },
     "execution_count": 88,
     "metadata": {},
     "output_type": "execute_result"
    }
   ],
   "source": [
    "df.fico_range_low.min()"
   ]
  },
  {
   "cell_type": "code",
   "execution_count": 61,
   "id": "c3805548-607b-42f4-a483-73adab88702f",
   "metadata": {},
   "outputs": [],
   "source": [
    "# replacing nan in mths_since_last_delinq by -1 because it probably means they were never delinquent\n",
    "df.mths_since_last_delinq = df.mths_since_last_delinq.fillna(-1)"
   ]
  },
  {
   "cell_type": "code",
   "execution_count": 62,
   "id": "0e8158fb-45e2-4bc1-952a-cbf8db8dacac",
   "metadata": {},
   "outputs": [
    {
     "data": {
      "text/plain": [
       "emp_length                0\n",
       "home_ownership            0\n",
       "annual_inc                0\n",
       "purpose                   0\n",
       "fico_range_low            0\n",
       "fico_range_high           0\n",
       "mths_since_last_delinq    0\n",
       "application_type          0\n",
       "acc_now_delinq            0\n",
       "tot_cur_bal               0\n",
       "dtype: int64"
      ]
     },
     "execution_count": 62,
     "metadata": {},
     "output_type": "execute_result"
    }
   ],
   "source": [
    "df.isna().sum()"
   ]
  },
  {
   "cell_type": "markdown",
   "id": "910d621d-f10a-428a-a413-178ecbe1e745",
   "metadata": {},
   "source": [
    "## Formatting target"
   ]
  },
  {
   "cell_type": "code",
   "execution_count": 66,
   "id": "d186709a-7f0a-4e08-b004-45afd0f2729c",
   "metadata": {},
   "outputs": [],
   "source": [
    "df['fico'] = (df.fico_range_high + df.fico_range_low)/2\n",
    "df = df.drop(columns=['fico_range_high', 'fico_range_low'])"
   ]
  },
  {
   "cell_type": "markdown",
   "id": "0a1898d2-f2be-4790-898c-e4d61b68b2a4",
   "metadata": {},
   "source": [
    "## Categorical / numerical definition"
   ]
  },
  {
   "cell_type": "code",
   "execution_count": 95,
   "id": "785c01a6-6d2a-42c7-b0cf-8c79d8e1d69d",
   "metadata": {},
   "outputs": [],
   "source": [
    "nominal = ['home_ownership', 'application_type', 'purpose']\n",
    "ordinal = ['emp_length']\n",
    "continuous = ['annual_inc', 'total_cur_bal']\n",
    "discrete = ['acc_now_delinq']\n",
    "target = ['fico']\n",
    "\n",
    "categorical = nominal + ordinal\n",
    "numerical = continuous + discrete\n",
    "features = categorical + numerical"
   ]
  },
  {
   "cell_type": "code",
   "execution_count": 73,
   "id": "015423ac-715e-498a-8c42-5e8ea0549d6d",
   "metadata": {},
   "outputs": [
    {
     "data": {
      "image/png": "[encoded data removed]",
      "text/plain": [
       "<Figure size 640x480 with 1 Axes>"
      ]
     },
     "metadata": {},
     "output_type": "display_data"
    }
   ],
   "source": [
    "sns.countplot(data=df, y='purpose');"
   ]
  },
  {
   "cell_type": "code",
   "execution_count": 93,
   "id": "9679460c-428c-435e-8b34-397997aaa68b",
   "metadata": {},
   "outputs": [],
   "source": [
    "# putting renewable_energy, wedding and educational in other\n",
    "def replace_purpose(val):\n",
    "    return 'other' if val in ('renewable_energy', 'wedding', 'educational') else val\n",
    "\n",
    "df.purpose = df.purpose.apply(replace_purpose)"
   ]
  },
  {
   "cell_type": "code",
   "execution_count": 94,
   "id": "9bb12ed6-13a2-4523-b01f-d9ddfab6ae96",
   "metadata": {},
   "outputs": [
    {
     "data": {
      "image/png": "[encoded data removed]",
      "text/plain": [
       "<Figure size 640x480 with 1 Axes>"
      ]
     },
     "metadata": {},
     "output_type": "display_data"
    }
   ],
   "source": [
    "sns.countplot(data=df, y='purpose');"
   ]
  },
  {
   "cell_type": "code",
   "execution_count": 77,
   "id": "ce29d9cb-038f-4a65-b18b-b3feedcae42f",
   "metadata": {},
   "outputs": [
    {
     "data": {
      "text/plain": [
       "<matplotlib.axes._subplots.AxesSubplot at 0x7f6e558724d0>"
      ]
     },
     "execution_count": 77,
     "metadata": {},
     "output_type": "execute_result"
    },
    {
     "data": {
      "image/png": "[encoded data removed]",
      "text/plain": [
       "<Figure size 640x480 with 1 Axes>"
      ]
     },
     "metadata": {},
     "output_type": "display_data"
    }
   ],
   "source": [
    "sns.histplot(data=df, x='fico');"
   ]
  },
  {
   "cell_type": "markdown",
   "id": "fd03dcc4-632f-4ead-96e4-ca3d9b53de1c",
   "metadata": {},
   "source": [
    "## Feature Encoding"
   ]
  },
  {
   "cell_type": "code",
   "execution_count": 96,
   "id": "dbb10fb6-64b9-4d8a-9ed8-4f8aac24838c",
   "metadata": {},
   "outputs": [
    {
     "data": {
      "text/plain": [
       "['home_ownership', 'application_type', 'purpose', 'emp_length']"
      ]
     },
     "execution_count": 96,
     "metadata": {},
     "output_type": "execute_result"
    }
   ],
   "source": [
    "categorical"
   ]
  },
  {
   "cell_type": "markdown",
   "id": "6c10c0dc-4678-47d7-bf1d-9d6a23369509",
   "metadata": {},
   "source": [
    "### emp_length"
   ]
  },
  {
   "cell_type": "code",
   "execution_count": 26,
   "id": "e16bda78-84a7-44fa-aee9-84c7f2535b05",
   "metadata": {},
   "outputs": [
    {
     "data": {
      "text/plain": [
       "10+ years    29159\n",
       "2 years       9501\n",
       "< 1 year      9174\n",
       "3 years       8703\n",
       "5 years       7307\n",
       "1 year        6892\n",
       "4 years       6412\n",
       "6 years       5673\n",
       "7 years       5349\n",
       "8 years       4502\n",
       "9 years       3572\n",
       "Name: emp_length, dtype: int64"
      ]
     },
     "execution_count": 26,
     "metadata": {},
     "output_type": "execute_result"
    }
   ],
   "source": [
    "df.emp_length.value_counts()"
   ]
  },
  {
   "cell_type": "code",
   "execution_count": 71,
   "id": "0284c81b-bbe2-4c5f-a7ab-c76d21a25043",
   "metadata": {},
   "outputs": [],
   "source": [
    "emp_length_order = {\n",
    "    '< 1 year': 0,\n",
    "    '1 year': 1,\n",
    "    '2 years': 2,\n",
    "    '3 years': 3,\n",
    "    '4 years': 4,\n",
    "    '5 years': 5,\n",
    "    '6 years': 6,\n",
    "    '7 years': 7,\n",
    "    '8 years': 8,\n",
    "    '9 years': 9,\n",
    "    '10+ years': 10,\n",
    "}\n",
    "\n",
    "df['emp_length'] = df.emp_length.map(emp_length_order)"
   ]
  },
  {
   "cell_type": "code",
   "execution_count": null,
   "id": "3260810c-59c5-4d85-99cb-b205c51de2a9",
   "metadata": {},
   "outputs": [],
   "source": []
  },
  {
   "cell_type": "code",
   "execution_count": 16,
   "id": "ae39e23f-8b38-4b75-9d95-5311e7514259",
   "metadata": {},
   "outputs": [],
   "source": [
    "X = df.drop(columns=['fico_target'])\n",
    "y = df['fico_target']"
   ]
  },
  {
   "cell_type": "code",
   "execution_count": 18,
   "id": "ff6992e8-d890-4064-a299-c99eb2861362",
   "metadata": {},
   "outputs": [
    {
     "ename": "ValueError",
     "evalue": "could not convert string to float: ' 36 months'",
     "output_type": "error",
     "traceback": [
      "\u001b[0;31m---------------------------------------------------------------------------\u001b[0m",
      "\u001b[0;31mValueError\u001b[0m                                Traceback (most recent call last)",
      "Input \u001b[0;32mIn [18]\u001b[0m, in \u001b[0;36m<cell line: 2>\u001b[0;34m()\u001b[0m\n\u001b[1;32m      1\u001b[0m fs \u001b[38;5;241m=\u001b[39m SelectKBest(score_func\u001b[38;5;241m=\u001b[39mchi2, k\u001b[38;5;241m=\u001b[39m\u001b[38;5;241m5\u001b[39m)\n\u001b[0;32m----> 2\u001b[0m \u001b[43mfs\u001b[49m\u001b[38;5;241;43m.\u001b[39;49m\u001b[43mfit\u001b[49m\u001b[43m(\u001b[49m\u001b[43mdf\u001b[49m\u001b[43m[\u001b[49m\u001b[43mcategorical\u001b[49m\u001b[43m]\u001b[49m\u001b[43m,\u001b[49m\u001b[43m \u001b[49m\u001b[43my\u001b[49m\u001b[43m)\u001b[49m\n",
      "File \u001b[0;32m~/.local/lib/python3.10/site-packages/sklearn/feature_selection/_univariate_selection.py:461\u001b[0m, in \u001b[0;36m_BaseFilter.fit\u001b[0;34m(self, X, y)\u001b[0m\n\u001b[1;32m    444\u001b[0m \u001b[38;5;28;01mdef\u001b[39;00m \u001b[38;5;21mfit\u001b[39m(\u001b[38;5;28mself\u001b[39m, X, y):\n\u001b[1;32m    445\u001b[0m     \u001b[38;5;124;03m\"\"\"Run score function on (X, y) and get the appropriate features.\u001b[39;00m\n\u001b[1;32m    446\u001b[0m \n\u001b[1;32m    447\u001b[0m \u001b[38;5;124;03m    Parameters\u001b[39;00m\n\u001b[0;32m   (...)\u001b[0m\n\u001b[1;32m    459\u001b[0m \u001b[38;5;124;03m        Returns the instance itself.\u001b[39;00m\n\u001b[1;32m    460\u001b[0m \u001b[38;5;124;03m    \"\"\"\u001b[39;00m\n\u001b[0;32m--> 461\u001b[0m     X, y \u001b[38;5;241m=\u001b[39m \u001b[38;5;28;43mself\u001b[39;49m\u001b[38;5;241;43m.\u001b[39;49m\u001b[43m_validate_data\u001b[49m\u001b[43m(\u001b[49m\n\u001b[1;32m    462\u001b[0m \u001b[43m        \u001b[49m\u001b[43mX\u001b[49m\u001b[43m,\u001b[49m\u001b[43m \u001b[49m\u001b[43my\u001b[49m\u001b[43m,\u001b[49m\u001b[43m \u001b[49m\u001b[43maccept_sparse\u001b[49m\u001b[38;5;241;43m=\u001b[39;49m\u001b[43m[\u001b[49m\u001b[38;5;124;43m\"\u001b[39;49m\u001b[38;5;124;43mcsr\u001b[39;49m\u001b[38;5;124;43m\"\u001b[39;49m\u001b[43m,\u001b[49m\u001b[43m \u001b[49m\u001b[38;5;124;43m\"\u001b[39;49m\u001b[38;5;124;43mcsc\u001b[39;49m\u001b[38;5;124;43m\"\u001b[39;49m\u001b[43m]\u001b[49m\u001b[43m,\u001b[49m\u001b[43m \u001b[49m\u001b[43mmulti_output\u001b[49m\u001b[38;5;241;43m=\u001b[39;49m\u001b[38;5;28;43;01mTrue\u001b[39;49;00m\n\u001b[1;32m    463\u001b[0m \u001b[43m    \u001b[49m\u001b[43m)\u001b[49m\n\u001b[1;32m    465\u001b[0m     \u001b[38;5;28;01mif\u001b[39;00m \u001b[38;5;129;01mnot\u001b[39;00m callable(\u001b[38;5;28mself\u001b[39m\u001b[38;5;241m.\u001b[39mscore_func):\n\u001b[1;32m    466\u001b[0m         \u001b[38;5;28;01mraise\u001b[39;00m \u001b[38;5;167;01mTypeError\u001b[39;00m(\n\u001b[1;32m    467\u001b[0m             \u001b[38;5;124m\"\u001b[39m\u001b[38;5;124mThe score function should be a callable, \u001b[39m\u001b[38;5;132;01m%s\u001b[39;00m\u001b[38;5;124m (\u001b[39m\u001b[38;5;132;01m%s\u001b[39;00m\u001b[38;5;124m) was passed.\u001b[39m\u001b[38;5;124m\"\u001b[39m\n\u001b[1;32m    468\u001b[0m             \u001b[38;5;241m%\u001b[39m (\u001b[38;5;28mself\u001b[39m\u001b[38;5;241m.\u001b[39mscore_func, \u001b[38;5;28mtype\u001b[39m(\u001b[38;5;28mself\u001b[39m\u001b[38;5;241m.\u001b[39mscore_func))\n\u001b[1;32m    469\u001b[0m         )\n",
      "File \u001b[0;32m~/.local/lib/python3.10/site-packages/sklearn/base.py:596\u001b[0m, in \u001b[0;36mBaseEstimator._validate_data\u001b[0;34m(self, X, y, reset, validate_separately, **check_params)\u001b[0m\n\u001b[1;32m    594\u001b[0m         y \u001b[38;5;241m=\u001b[39m check_array(y, input_name\u001b[38;5;241m=\u001b[39m\u001b[38;5;124m\"\u001b[39m\u001b[38;5;124my\u001b[39m\u001b[38;5;124m\"\u001b[39m, \u001b[38;5;241m*\u001b[39m\u001b[38;5;241m*\u001b[39mcheck_y_params)\n\u001b[1;32m    595\u001b[0m     \u001b[38;5;28;01melse\u001b[39;00m:\n\u001b[0;32m--> 596\u001b[0m         X, y \u001b[38;5;241m=\u001b[39m \u001b[43mcheck_X_y\u001b[49m\u001b[43m(\u001b[49m\u001b[43mX\u001b[49m\u001b[43m,\u001b[49m\u001b[43m \u001b[49m\u001b[43my\u001b[49m\u001b[43m,\u001b[49m\u001b[43m \u001b[49m\u001b[38;5;241;43m*\u001b[39;49m\u001b[38;5;241;43m*\u001b[39;49m\u001b[43mcheck_params\u001b[49m\u001b[43m)\u001b[49m\n\u001b[1;32m    597\u001b[0m     out \u001b[38;5;241m=\u001b[39m X, y\n\u001b[1;32m    599\u001b[0m \u001b[38;5;28;01mif\u001b[39;00m \u001b[38;5;129;01mnot\u001b[39;00m no_val_X \u001b[38;5;129;01mand\u001b[39;00m check_params\u001b[38;5;241m.\u001b[39mget(\u001b[38;5;124m\"\u001b[39m\u001b[38;5;124mensure_2d\u001b[39m\u001b[38;5;124m\"\u001b[39m, \u001b[38;5;28;01mTrue\u001b[39;00m):\n",
      "File \u001b[0;32m~/.local/lib/python3.10/site-packages/sklearn/utils/validation.py:1074\u001b[0m, in \u001b[0;36mcheck_X_y\u001b[0;34m(X, y, accept_sparse, accept_large_sparse, dtype, order, copy, force_all_finite, ensure_2d, allow_nd, multi_output, ensure_min_samples, ensure_min_features, y_numeric, estimator)\u001b[0m\n\u001b[1;32m   1069\u001b[0m         estimator_name \u001b[38;5;241m=\u001b[39m _check_estimator_name(estimator)\n\u001b[1;32m   1070\u001b[0m     \u001b[38;5;28;01mraise\u001b[39;00m \u001b[38;5;167;01mValueError\u001b[39;00m(\n\u001b[1;32m   1071\u001b[0m         \u001b[38;5;124mf\u001b[39m\u001b[38;5;124m\"\u001b[39m\u001b[38;5;132;01m{\u001b[39;00mestimator_name\u001b[38;5;132;01m}\u001b[39;00m\u001b[38;5;124m requires y to be passed, but the target y is None\u001b[39m\u001b[38;5;124m\"\u001b[39m\n\u001b[1;32m   1072\u001b[0m     )\n\u001b[0;32m-> 1074\u001b[0m X \u001b[38;5;241m=\u001b[39m \u001b[43mcheck_array\u001b[49m\u001b[43m(\u001b[49m\n\u001b[1;32m   1075\u001b[0m \u001b[43m    \u001b[49m\u001b[43mX\u001b[49m\u001b[43m,\u001b[49m\n\u001b[1;32m   1076\u001b[0m \u001b[43m    \u001b[49m\u001b[43maccept_sparse\u001b[49m\u001b[38;5;241;43m=\u001b[39;49m\u001b[43maccept_sparse\u001b[49m\u001b[43m,\u001b[49m\n\u001b[1;32m   1077\u001b[0m \u001b[43m    \u001b[49m\u001b[43maccept_large_sparse\u001b[49m\u001b[38;5;241;43m=\u001b[39;49m\u001b[43maccept_large_sparse\u001b[49m\u001b[43m,\u001b[49m\n\u001b[1;32m   1078\u001b[0m \u001b[43m    \u001b[49m\u001b[43mdtype\u001b[49m\u001b[38;5;241;43m=\u001b[39;49m\u001b[43mdtype\u001b[49m\u001b[43m,\u001b[49m\n\u001b[1;32m   1079\u001b[0m \u001b[43m    \u001b[49m\u001b[43morder\u001b[49m\u001b[38;5;241;43m=\u001b[39;49m\u001b[43morder\u001b[49m\u001b[43m,\u001b[49m\n\u001b[1;32m   1080\u001b[0m \u001b[43m    \u001b[49m\u001b[43mcopy\u001b[49m\u001b[38;5;241;43m=\u001b[39;49m\u001b[43mcopy\u001b[49m\u001b[43m,\u001b[49m\n\u001b[1;32m   1081\u001b[0m \u001b[43m    \u001b[49m\u001b[43mforce_all_finite\u001b[49m\u001b[38;5;241;43m=\u001b[39;49m\u001b[43mforce_all_finite\u001b[49m\u001b[43m,\u001b[49m\n\u001b[1;32m   1082\u001b[0m \u001b[43m    \u001b[49m\u001b[43mensure_2d\u001b[49m\u001b[38;5;241;43m=\u001b[39;49m\u001b[43mensure_2d\u001b[49m\u001b[43m,\u001b[49m\n\u001b[1;32m   1083\u001b[0m \u001b[43m    \u001b[49m\u001b[43mallow_nd\u001b[49m\u001b[38;5;241;43m=\u001b[39;49m\u001b[43mallow_nd\u001b[49m\u001b[43m,\u001b[49m\n\u001b[1;32m   1084\u001b[0m \u001b[43m    \u001b[49m\u001b[43mensure_min_samples\u001b[49m\u001b[38;5;241;43m=\u001b[39;49m\u001b[43mensure_min_samples\u001b[49m\u001b[43m,\u001b[49m\n\u001b[1;32m   1085\u001b[0m \u001b[43m    \u001b[49m\u001b[43mensure_min_features\u001b[49m\u001b[38;5;241;43m=\u001b[39;49m\u001b[43mensure_min_features\u001b[49m\u001b[43m,\u001b[49m\n\u001b[1;32m   1086\u001b[0m \u001b[43m    \u001b[49m\u001b[43mestimator\u001b[49m\u001b[38;5;241;43m=\u001b[39;49m\u001b[43mestimator\u001b[49m\u001b[43m,\u001b[49m\n\u001b[1;32m   1087\u001b[0m \u001b[43m    \u001b[49m\u001b[43minput_name\u001b[49m\u001b[38;5;241;43m=\u001b[39;49m\u001b[38;5;124;43m\"\u001b[39;49m\u001b[38;5;124;43mX\u001b[39;49m\u001b[38;5;124;43m\"\u001b[39;49m\u001b[43m,\u001b[49m\n\u001b[1;32m   1088\u001b[0m \u001b[43m\u001b[49m\u001b[43m)\u001b[49m\n\u001b[1;32m   1090\u001b[0m y \u001b[38;5;241m=\u001b[39m _check_y(y, multi_output\u001b[38;5;241m=\u001b[39mmulti_output, y_numeric\u001b[38;5;241m=\u001b[39my_numeric, estimator\u001b[38;5;241m=\u001b[39mestimator)\n\u001b[1;32m   1092\u001b[0m check_consistent_length(X, y)\n",
      "File \u001b[0;32m~/.local/lib/python3.10/site-packages/sklearn/utils/validation.py:856\u001b[0m, in \u001b[0;36mcheck_array\u001b[0;34m(array, accept_sparse, accept_large_sparse, dtype, order, copy, force_all_finite, ensure_2d, allow_nd, ensure_min_samples, ensure_min_features, estimator, input_name)\u001b[0m\n\u001b[1;32m    854\u001b[0m         array \u001b[38;5;241m=\u001b[39m array\u001b[38;5;241m.\u001b[39mastype(dtype, casting\u001b[38;5;241m=\u001b[39m\u001b[38;5;124m\"\u001b[39m\u001b[38;5;124munsafe\u001b[39m\u001b[38;5;124m\"\u001b[39m, copy\u001b[38;5;241m=\u001b[39m\u001b[38;5;28;01mFalse\u001b[39;00m)\n\u001b[1;32m    855\u001b[0m     \u001b[38;5;28;01melse\u001b[39;00m:\n\u001b[0;32m--> 856\u001b[0m         array \u001b[38;5;241m=\u001b[39m \u001b[43mnp\u001b[49m\u001b[38;5;241;43m.\u001b[39;49m\u001b[43masarray\u001b[49m\u001b[43m(\u001b[49m\u001b[43marray\u001b[49m\u001b[43m,\u001b[49m\u001b[43m \u001b[49m\u001b[43morder\u001b[49m\u001b[38;5;241;43m=\u001b[39;49m\u001b[43morder\u001b[49m\u001b[43m,\u001b[49m\u001b[43m \u001b[49m\u001b[43mdtype\u001b[49m\u001b[38;5;241;43m=\u001b[39;49m\u001b[43mdtype\u001b[49m\u001b[43m)\u001b[49m\n\u001b[1;32m    857\u001b[0m \u001b[38;5;28;01mexcept\u001b[39;00m ComplexWarning \u001b[38;5;28;01mas\u001b[39;00m complex_warning:\n\u001b[1;32m    858\u001b[0m     \u001b[38;5;28;01mraise\u001b[39;00m \u001b[38;5;167;01mValueError\u001b[39;00m(\n\u001b[1;32m    859\u001b[0m         \u001b[38;5;124m\"\u001b[39m\u001b[38;5;124mComplex data not supported\u001b[39m\u001b[38;5;130;01m\\n\u001b[39;00m\u001b[38;5;132;01m{}\u001b[39;00m\u001b[38;5;130;01m\\n\u001b[39;00m\u001b[38;5;124m\"\u001b[39m\u001b[38;5;241m.\u001b[39mformat(array)\n\u001b[1;32m    860\u001b[0m     ) \u001b[38;5;28;01mfrom\u001b[39;00m \u001b[38;5;21;01mcomplex_warning\u001b[39;00m\n",
      "File \u001b[0;32m~/.local/lib/python3.10/site-packages/pandas/core/generic.py:2064\u001b[0m, in \u001b[0;36mNDFrame.__array__\u001b[0;34m(self, dtype)\u001b[0m\n\u001b[1;32m   2063\u001b[0m \u001b[38;5;28;01mdef\u001b[39;00m \u001b[38;5;21m__array__\u001b[39m(\u001b[38;5;28mself\u001b[39m, dtype: npt\u001b[38;5;241m.\u001b[39mDTypeLike \u001b[38;5;241m|\u001b[39m \u001b[38;5;28;01mNone\u001b[39;00m \u001b[38;5;241m=\u001b[39m \u001b[38;5;28;01mNone\u001b[39;00m) \u001b[38;5;241m-\u001b[39m\u001b[38;5;241m>\u001b[39m np\u001b[38;5;241m.\u001b[39mndarray:\n\u001b[0;32m-> 2064\u001b[0m     \u001b[38;5;28;01mreturn\u001b[39;00m \u001b[43mnp\u001b[49m\u001b[38;5;241;43m.\u001b[39;49m\u001b[43masarray\u001b[49m\u001b[43m(\u001b[49m\u001b[38;5;28;43mself\u001b[39;49m\u001b[38;5;241;43m.\u001b[39;49m\u001b[43m_values\u001b[49m\u001b[43m,\u001b[49m\u001b[43m \u001b[49m\u001b[43mdtype\u001b[49m\u001b[38;5;241;43m=\u001b[39;49m\u001b[43mdtype\u001b[49m\u001b[43m)\u001b[49m\n",
      "\u001b[0;31mValueError\u001b[0m: could not convert string to float: ' 36 months'"
     ]
    }
   ],
   "source": [
    "fs = SelectKBest(score_func=chi2, k=5)\n",
    "fs.fit(df[categorical], y)"
   ]
  },
  {
   "cell_type": "code",
   "execution_count": null,
   "id": "4671f387-976f-4553-9ae5-d9ae73e09067",
   "metadata": {},
   "outputs": [],
   "source": []
  }
 ],
 "metadata": {
  "kernelspec": {
   "display_name": "hackathon",
   "language": "python",
   "name": "hackathon"
  },
  "language_info": {
   "codemirror_mode": {
    "name": "ipython",
    "version": 3
   },
   "file_extension": ".py",
   "mimetype": "text/x-python",
   "name": "python",
   "nbconvert_exporter": "python",
   "pygments_lexer": "ipython3",
   "version": "3.10.4"
  }
 },
 "nbformat": 4,
 "nbformat_minor": 5
}
